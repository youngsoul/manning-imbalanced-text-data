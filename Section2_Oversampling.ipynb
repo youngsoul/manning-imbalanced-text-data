{
 "cells": [
  {
   "cell_type": "code",
   "execution_count": 1,
   "metadata": {
    "ExecuteTime": {
     "end_time": "2020-07-14T02:22:53.069492Z",
     "start_time": "2020-07-14T02:22:51.365815Z"
    }
   },
   "outputs": [],
   "source": [
    "import tensorflow as tf\n",
    "import numpy as np\n",
    "import collections\n",
    "import seaborn as sns\n",
    "import matplotlib.pyplot as plt\n",
    "from sklearn.model_selection import train_test_split\n",
    "from sklearn.metrics import confusion_matrix\n",
    "from sklearn.metrics import classification_report\n",
    "import pandas as pd\n",
    "sns.set_style('darkgrid')"
   ]
  },
  {
   "cell_type": "code",
   "execution_count": 2,
   "metadata": {
    "ExecuteTime": {
     "end_time": "2020-07-14T02:22:57.415109Z",
     "start_time": "2020-07-14T02:22:53.070954Z"
    }
   },
   "outputs": [],
   "source": [
    "(x_train, y_train), (x_test, y_test) = tf.keras.datasets.imdb.load_data(\n",
    "    path='imdb.npz',\n",
    "    num_words=None,\n",
    "    skip_top=0,\n",
    "    maxlen=None,\n",
    "    seed=113,\n",
    "    start_char=1,\n",
    "    oov_char=2,\n",
    "    index_from=3\n",
    ")"
   ]
  },
  {
   "cell_type": "code",
   "execution_count": 3,
   "metadata": {
    "ExecuteTime": {
     "end_time": "2020-07-14T02:22:57.420686Z",
     "start_time": "2020-07-14T02:22:57.417585Z"
    }
   },
   "outputs": [],
   "source": [
    "positive_reviews = x_train[np.where(y_train==1)]"
   ]
  },
  {
   "cell_type": "code",
   "execution_count": 4,
   "metadata": {
    "ExecuteTime": {
     "end_time": "2020-07-14T02:22:57.426955Z",
     "start_time": "2020-07-14T02:22:57.422375Z"
    }
   },
   "outputs": [
    {
     "data": {
      "text/plain": [
       "12500"
      ]
     },
     "execution_count": 4,
     "metadata": {},
     "output_type": "execute_result"
    }
   ],
   "source": [
    "len(positive_reviews)"
   ]
  },
  {
   "cell_type": "code",
   "execution_count": 5,
   "metadata": {
    "ExecuteTime": {
     "end_time": "2020-07-14T02:22:57.430775Z",
     "start_time": "2020-07-14T02:22:57.428229Z"
    }
   },
   "outputs": [],
   "source": [
    "p = collections.Counter()"
   ]
  },
  {
   "cell_type": "code",
   "execution_count": 6,
   "metadata": {
    "ExecuteTime": {
     "end_time": "2020-07-14T02:22:57.436750Z",
     "start_time": "2020-07-14T02:22:57.432208Z"
    }
   },
   "outputs": [],
   "source": [
    "positive_review_length = [len(x) for x in positive_reviews]\n",
    "p.update(positive_review_length)\n"
   ]
  },
  {
   "cell_type": "code",
   "execution_count": 7,
   "metadata": {
    "ExecuteTime": {
     "end_time": "2020-07-14T02:22:57.442017Z",
     "start_time": "2020-07-14T02:22:57.438269Z"
    }
   },
   "outputs": [
    {
     "data": {
      "text/plain": [
       "[(125, 95)]"
      ]
     },
     "execution_count": 7,
     "metadata": {},
     "output_type": "execute_result"
    }
   ],
   "source": [
    "p.most_common(1)"
   ]
  },
  {
   "cell_type": "code",
   "execution_count": 8,
   "metadata": {
    "ExecuteTime": {
     "end_time": "2020-07-14T02:22:57.447860Z",
     "start_time": "2020-07-14T02:22:57.444439Z"
    }
   },
   "outputs": [],
   "source": [
    "negative_reviews = x_train[np.where(y_train==0)]"
   ]
  },
  {
   "cell_type": "code",
   "execution_count": 9,
   "metadata": {
    "ExecuteTime": {
     "end_time": "2020-07-14T02:22:57.453603Z",
     "start_time": "2020-07-14T02:22:57.449810Z"
    }
   },
   "outputs": [
    {
     "data": {
      "text/plain": [
       "12500"
      ]
     },
     "execution_count": 9,
     "metadata": {},
     "output_type": "execute_result"
    }
   ],
   "source": [
    "len(negative_reviews)"
   ]
  },
  {
   "cell_type": "code",
   "execution_count": 10,
   "metadata": {
    "ExecuteTime": {
     "end_time": "2020-07-14T02:22:57.457428Z",
     "start_time": "2020-07-14T02:22:57.455210Z"
    }
   },
   "outputs": [],
   "source": [
    "n = collections.Counter()"
   ]
  },
  {
   "cell_type": "code",
   "execution_count": 11,
   "metadata": {
    "ExecuteTime": {
     "end_time": "2020-07-14T02:22:57.463624Z",
     "start_time": "2020-07-14T02:22:57.458918Z"
    }
   },
   "outputs": [],
   "source": [
    "negative_review_length = [len(x) for x in negative_reviews]\n",
    "n.update(negative_review_length)"
   ]
  },
  {
   "cell_type": "code",
   "execution_count": 12,
   "metadata": {
    "ExecuteTime": {
     "end_time": "2020-07-14T02:22:57.468609Z",
     "start_time": "2020-07-14T02:22:57.465078Z"
    }
   },
   "outputs": [
    {
     "data": {
      "text/plain": [
       "[(132, 105)]"
      ]
     },
     "execution_count": 12,
     "metadata": {},
     "output_type": "execute_result"
    }
   ],
   "source": [
    "n.most_common(1)"
   ]
  },
  {
   "cell_type": "code",
   "execution_count": 13,
   "metadata": {
    "ExecuteTime": {
     "end_time": "2020-07-14T02:22:57.474487Z",
     "start_time": "2020-07-14T02:22:57.470206Z"
    }
   },
   "outputs": [
    {
     "name": "stdout",
     "output_type": "stream",
     "text": [
      "The most frequent length for positive review is 125 words and it occurs 95 times\n",
      "The most frequent length for negative review is 132 words and it occurs 105 times\n"
     ]
    }
   ],
   "source": [
    "print(f\"The most frequent length for positive review is {p.most_common(1)[0][0]} words and it occurs {p.most_common(1)[0][1]} times\")\n",
    "print(f\"The most frequent length for negative review is {n.most_common(1)[0][0]} words and it occurs {n.most_common(1)[0][1]} times\")\n",
    "\n",
    "     "
   ]
  },
  {
   "cell_type": "code",
   "execution_count": 14,
   "metadata": {
    "ExecuteTime": {
     "end_time": "2020-07-14T02:22:57.933210Z",
     "start_time": "2020-07-14T02:22:57.477074Z"
    }
   },
   "outputs": [
    {
     "data": {
      "text/plain": [
       "[Text(0, 0.5, 'frequency of occurence'), Text(0.5, 0, 'total word count')]"
      ]
     },
     "execution_count": 14,
     "metadata": {},
     "output_type": "execute_result"
    },
    {
     "data": {
      "image/png": "[encoded data removed]",
      "text/plain": [
       "<Figure size 432x288 with 1 Axes>"
      ]
     },
     "metadata": {
      "needs_background": "light"
     },
     "output_type": "display_data"
    }
   ],
   "source": [
    "fig, ax = plt.subplots()\n",
    "sns.distplot(positive_review_length, label='positive_review_length')\n",
    "sns.distplot(negative_review_length, label='negative_review_length')\n",
    "ax.legend()\n",
    "ax.set(xlabel='total word count', ylabel='frequency of occurence')\n"
   ]
  },
  {
   "cell_type": "markdown",
   "metadata": {},
   "source": [
    "# Oversampling\n"
   ]
  },
  {
   "cell_type": "code",
   "execution_count": 15,
   "metadata": {
    "ExecuteTime": {
     "end_time": "2020-07-14T02:22:57.938895Z",
     "start_time": "2020-07-14T02:22:57.934794Z"
    }
   },
   "outputs": [
    {
     "data": {
      "text/plain": [
       "12500"
      ]
     },
     "execution_count": 15,
     "metadata": {},
     "output_type": "execute_result"
    }
   ],
   "source": [
    "len(positive_reviews)"
   ]
  },
  {
   "cell_type": "code",
   "execution_count": 16,
   "metadata": {
    "ExecuteTime": {
     "end_time": "2020-07-14T02:22:57.943042Z",
     "start_time": "2020-07-14T02:22:57.940382Z"
    }
   },
   "outputs": [],
   "source": [
    "y_train_pos_index = np.argwhere(y_train == 1)"
   ]
  },
  {
   "cell_type": "code",
   "execution_count": 17,
   "metadata": {
    "ExecuteTime": {
     "end_time": "2020-07-14T02:22:57.959456Z",
     "start_time": "2020-07-14T02:22:57.944578Z"
    }
   },
   "outputs": [],
   "source": [
    "np.random.shuffle(y_train_pos_index)"
   ]
  },
  {
   "cell_type": "code",
   "execution_count": 18,
   "metadata": {
    "ExecuteTime": {
     "end_time": "2020-07-14T02:22:57.963986Z",
     "start_time": "2020-07-14T02:22:57.960679Z"
    }
   },
   "outputs": [
    {
     "data": {
      "text/plain": [
       "array([[ 1073],\n",
       "       [11742],\n",
       "       [12781],\n",
       "       ...,\n",
       "       [15330],\n",
       "       [  229],\n",
       "       [10568]])"
      ]
     },
     "execution_count": 18,
     "metadata": {},
     "output_type": "execute_result"
    }
   ],
   "source": [
    "y_train_pos_index"
   ]
  },
  {
   "cell_type": "code",
   "execution_count": 19,
   "metadata": {
    "ExecuteTime": {
     "end_time": "2020-07-14T02:22:57.968237Z",
     "start_time": "2020-07-14T02:22:57.965330Z"
    }
   },
   "outputs": [],
   "source": [
    "pos_reviews = x_train[y_train_pos_index[: int(len(y_train_pos_index)/2)]]"
   ]
  },
  {
   "cell_type": "code",
   "execution_count": 20,
   "metadata": {
    "ExecuteTime": {
     "end_time": "2020-07-14T02:22:57.972779Z",
     "start_time": "2020-07-14T02:22:57.969619Z"
    }
   },
   "outputs": [
    {
     "data": {
      "text/plain": [
       "6250"
      ]
     },
     "execution_count": 20,
     "metadata": {},
     "output_type": "execute_result"
    }
   ],
   "source": [
    "len(pos_reviews)"
   ]
  },
  {
   "cell_type": "code",
   "execution_count": 21,
   "metadata": {
    "ExecuteTime": {
     "end_time": "2020-07-14T02:22:57.978115Z",
     "start_time": "2020-07-14T02:22:57.974510Z"
    }
   },
   "outputs": [
    {
     "data": {
      "text/plain": [
       "(6250, 1)"
      ]
     },
     "execution_count": 21,
     "metadata": {},
     "output_type": "execute_result"
    }
   ],
   "source": [
    "pos_reviews.shape"
   ]
  },
  {
   "cell_type": "code",
   "execution_count": 22,
   "metadata": {
    "ExecuteTime": {
     "end_time": "2020-07-14T02:22:57.982993Z",
     "start_time": "2020-07-14T02:22:57.979530Z"
    }
   },
   "outputs": [
    {
     "data": {
      "text/plain": [
       "6250"
      ]
     },
     "execution_count": 22,
     "metadata": {},
     "output_type": "execute_result"
    }
   ],
   "source": [
    "# resample to x_test size\n",
    "upsample_size = int(len(y_train_pos_index)/2)\n",
    "upsample_size"
   ]
  },
  {
   "cell_type": "code",
   "execution_count": 23,
   "metadata": {
    "ExecuteTime": {
     "end_time": "2020-07-14T02:22:57.991020Z",
     "start_time": "2020-07-14T02:22:57.986997Z"
    }
   },
   "outputs": [],
   "source": [
    "pos_reviews_new = np.random.choice(pos_reviews.flatten(), size=upsample_size, replace=False)"
   ]
  },
  {
   "cell_type": "code",
   "execution_count": 24,
   "metadata": {
    "ExecuteTime": {
     "end_time": "2020-07-14T02:22:57.996486Z",
     "start_time": "2020-07-14T02:22:57.993282Z"
    }
   },
   "outputs": [],
   "source": [
    "x_train_pos = np.concatenate((pos_reviews.flatten(), pos_reviews_new))"
   ]
  },
  {
   "cell_type": "code",
   "execution_count": 25,
   "metadata": {
    "ExecuteTime": {
     "end_time": "2020-07-14T02:22:58.000863Z",
     "start_time": "2020-07-14T02:22:57.998051Z"
    }
   },
   "outputs": [],
   "source": [
    "y_train_pos = np.ones(int(len(x_train_pos)))"
   ]
  },
  {
   "cell_type": "code",
   "execution_count": 26,
   "metadata": {
    "ExecuteTime": {
     "end_time": "2020-07-14T02:22:58.006267Z",
     "start_time": "2020-07-14T02:22:58.002502Z"
    }
   },
   "outputs": [
    {
     "data": {
      "text/plain": [
       "array([1., 1., 1., ..., 1., 1., 1.])"
      ]
     },
     "execution_count": 26,
     "metadata": {},
     "output_type": "execute_result"
    }
   ],
   "source": [
    "y_train_pos"
   ]
  },
  {
   "cell_type": "code",
   "execution_count": 27,
   "metadata": {
    "ExecuteTime": {
     "end_time": "2020-07-14T02:22:58.011084Z",
     "start_time": "2020-07-14T02:22:58.007721Z"
    }
   },
   "outputs": [
    {
     "data": {
      "text/plain": [
       "12500"
      ]
     },
     "execution_count": 27,
     "metadata": {},
     "output_type": "execute_result"
    }
   ],
   "source": [
    "len(x_train_pos)"
   ]
  },
  {
   "cell_type": "code",
   "execution_count": 28,
   "metadata": {
    "ExecuteTime": {
     "end_time": "2020-07-14T02:22:58.016668Z",
     "start_time": "2020-07-14T02:22:58.012844Z"
    }
   },
   "outputs": [
    {
     "data": {
      "text/plain": [
       "(12500,)"
      ]
     },
     "execution_count": 28,
     "metadata": {},
     "output_type": "execute_result"
    }
   ],
   "source": [
    "x_train_pos.shape"
   ]
  },
  {
   "cell_type": "code",
   "execution_count": 29,
   "metadata": {
    "ExecuteTime": {
     "end_time": "2020-07-14T02:22:58.021056Z",
     "start_time": "2020-07-14T02:22:58.018093Z"
    }
   },
   "outputs": [],
   "source": [
    "y_train_neg = np.argwhere(y_train == 0)"
   ]
  },
  {
   "cell_type": "code",
   "execution_count": 30,
   "metadata": {
    "ExecuteTime": {
     "end_time": "2020-07-14T02:22:58.025918Z",
     "start_time": "2020-07-14T02:22:58.022642Z"
    }
   },
   "outputs": [],
   "source": [
    "x_train_neg = x_train[y_train_neg]\n",
    "y_train_neg = np.zeros(int(len(y_train_neg)))"
   ]
  },
  {
   "cell_type": "code",
   "execution_count": 31,
   "metadata": {
    "ExecuteTime": {
     "end_time": "2020-07-14T02:22:58.031156Z",
     "start_time": "2020-07-14T02:22:58.027435Z"
    }
   },
   "outputs": [],
   "source": [
    "x_train_assembled = np.concatenate((x_train_pos, x_train_neg.flatten()))\n",
    "y_train_assembled = np.concatenate((y_train_pos, y_train_neg))"
   ]
  },
  {
   "cell_type": "code",
   "execution_count": 32,
   "metadata": {
    "ExecuteTime": {
     "end_time": "2020-07-14T02:22:58.036740Z",
     "start_time": "2020-07-14T02:22:58.032842Z"
    }
   },
   "outputs": [
    {
     "data": {
      "text/plain": [
       "(25000,)"
      ]
     },
     "execution_count": 32,
     "metadata": {},
     "output_type": "execute_result"
    }
   ],
   "source": [
    "x_train_assembled.shape"
   ]
  },
  {
   "cell_type": "code",
   "execution_count": 33,
   "metadata": {
    "ExecuteTime": {
     "end_time": "2020-07-14T02:22:58.041871Z",
     "start_time": "2020-07-14T02:22:58.038343Z"
    }
   },
   "outputs": [
    {
     "data": {
      "text/plain": [
       "(25000,)"
      ]
     },
     "execution_count": 33,
     "metadata": {},
     "output_type": "execute_result"
    }
   ],
   "source": [
    "x_train_assembled.shape"
   ]
  },
  {
   "cell_type": "code",
   "execution_count": 34,
   "metadata": {
    "ExecuteTime": {
     "end_time": "2020-07-14T02:22:58.046756Z",
     "start_time": "2020-07-14T02:22:58.043314Z"
    }
   },
   "outputs": [
    {
     "data": {
      "text/plain": [
       "25000"
      ]
     },
     "execution_count": 34,
     "metadata": {},
     "output_type": "execute_result"
    }
   ],
   "source": [
    "len(x_train_assembled)"
   ]
  },
  {
   "cell_type": "code",
   "execution_count": 35,
   "metadata": {
    "ExecuteTime": {
     "end_time": "2020-07-14T02:22:58.052076Z",
     "start_time": "2020-07-14T02:22:58.048173Z"
    }
   },
   "outputs": [
    {
     "data": {
      "text/plain": [
       "(25000,)"
      ]
     },
     "execution_count": 35,
     "metadata": {},
     "output_type": "execute_result"
    }
   ],
   "source": [
    "y_train_assembled.shape\n"
   ]
  },
  {
   "cell_type": "code",
   "execution_count": 36,
   "metadata": {
    "ExecuteTime": {
     "end_time": "2020-07-14T02:22:58.138315Z",
     "start_time": "2020-07-14T02:22:58.053714Z"
    }
   },
   "outputs": [],
   "source": [
    "INDEX_FROM=3\n",
    "word_index = tf.keras.datasets.imdb.get_word_index()\n",
    "word_index = {k:(v+INDEX_FROM) for k,v in word_index.items()}\n",
    "word_index[\"<PAD>\"] = 0\n",
    "word_index[\"<START>\"] = 1\n",
    "word_index[\"<UNK>\"] = 2\n",
    "word_index[\"<UNUSED>\"] = 3"
   ]
  },
  {
   "cell_type": "code",
   "execution_count": null,
   "metadata": {},
   "outputs": [],
   "source": []
  },
  {
   "cell_type": "code",
   "execution_count": 37,
   "metadata": {
    "ExecuteTime": {
     "end_time": "2020-07-14T02:22:58.163770Z",
     "start_time": "2020-07-14T02:22:58.139744Z"
    }
   },
   "outputs": [],
   "source": [
    "reverse_word_index = dict([(value, key) for (key,value) in word_index.items()])\n"
   ]
  },
  {
   "cell_type": "code",
   "execution_count": 38,
   "metadata": {
    "ExecuteTime": {
     "end_time": "2020-07-14T02:22:58.168451Z",
     "start_time": "2020-07-14T02:22:58.165545Z"
    }
   },
   "outputs": [],
   "source": [
    "def decode_review(review):\n",
    "    return ' '.join([reverse_word_index.get(i, '?') for i in text])\n"
   ]
  },
  {
   "cell_type": "code",
   "execution_count": 39,
   "metadata": {
    "ExecuteTime": {
     "end_time": "2020-07-14T02:22:58.173557Z",
     "start_time": "2020-07-14T02:22:58.170153Z"
    }
   },
   "outputs": [
    {
     "data": {
      "text/plain": [
       "25000"
      ]
     },
     "execution_count": 39,
     "metadata": {},
     "output_type": "execute_result"
    }
   ],
   "source": [
    "len(x_test)"
   ]
  },
  {
   "cell_type": "code",
   "execution_count": 40,
   "metadata": {
    "ExecuteTime": {
     "end_time": "2020-07-14T02:22:58.179026Z",
     "start_time": "2020-07-14T02:22:58.174900Z"
    }
   },
   "outputs": [
    {
     "data": {
      "text/plain": [
       "(25000,)"
      ]
     },
     "execution_count": 40,
     "metadata": {},
     "output_type": "execute_result"
    }
   ],
   "source": [
    "x_train_assembled.shape"
   ]
  },
  {
   "cell_type": "code",
   "execution_count": 41,
   "metadata": {
    "ExecuteTime": {
     "end_time": "2020-07-14T02:22:58.183762Z",
     "start_time": "2020-07-14T02:22:58.180602Z"
    }
   },
   "outputs": [
    {
     "data": {
      "text/plain": [
       "(25000,)"
      ]
     },
     "execution_count": 41,
     "metadata": {},
     "output_type": "execute_result"
    }
   ],
   "source": [
    "x_test.shape"
   ]
  },
  {
   "cell_type": "code",
   "execution_count": 42,
   "metadata": {
    "ExecuteTime": {
     "end_time": "2020-07-14T02:22:58.187512Z",
     "start_time": "2020-07-14T02:22:58.185055Z"
    }
   },
   "outputs": [],
   "source": [
    "vocab_size = 256"
   ]
  },
  {
   "cell_type": "code",
   "execution_count": 43,
   "metadata": {
    "ExecuteTime": {
     "end_time": "2020-07-14T02:22:58.939812Z",
     "start_time": "2020-07-14T02:22:58.189006Z"
    }
   },
   "outputs": [],
   "source": [
    "train_data = tf.keras.preprocessing.sequence.pad_sequences(x_train_assembled,\n",
    "                                                          value=word_index[\"<PAD>\"],\n",
    "                                                          padding='post',\n",
    "                                                          maxlen=vocab_size)\n",
    "\n",
    "test_data = tf.keras.preprocessing.sequence.pad_sequences(x_test,\n",
    "                                                         value=word_index[\"<PAD>\"],\n",
    "                                                          padding='post',\n",
    "                                                          maxlen=vocab_size)\n"
   ]
  },
  {
   "cell_type": "code",
   "execution_count": 44,
   "metadata": {
    "ExecuteTime": {
     "end_time": "2020-07-14T02:22:58.945224Z",
     "start_time": "2020-07-14T02:22:58.941976Z"
    }
   },
   "outputs": [
    {
     "data": {
      "text/plain": [
       "(25000, 256)"
      ]
     },
     "execution_count": 44,
     "metadata": {},
     "output_type": "execute_result"
    }
   ],
   "source": [
    "test_data.shape"
   ]
  },
  {
   "cell_type": "code",
   "execution_count": 45,
   "metadata": {
    "ExecuteTime": {
     "end_time": "2020-07-14T02:22:58.950390Z",
     "start_time": "2020-07-14T02:22:58.946804Z"
    }
   },
   "outputs": [
    {
     "data": {
      "text/plain": [
       "(25000, 256)"
      ]
     },
     "execution_count": 45,
     "metadata": {},
     "output_type": "execute_result"
    }
   ],
   "source": [
    "train_data.shape"
   ]
  },
  {
   "cell_type": "code",
   "execution_count": null,
   "metadata": {
    "ExecuteTime": {
     "end_time": "2020-07-14T01:55:03.869951Z",
     "start_time": "2020-07-14T01:55:03.852531Z"
    }
   },
   "outputs": [],
   "source": []
  },
  {
   "cell_type": "code",
   "execution_count": 46,
   "metadata": {
    "ExecuteTime": {
     "end_time": "2020-07-14T02:22:58.955743Z",
     "start_time": "2020-07-14T02:22:58.952124Z"
    }
   },
   "outputs": [
    {
     "data": {
      "text/plain": [
       "array([1., 1., 1., ..., 0., 0., 0.])"
      ]
     },
     "execution_count": 46,
     "metadata": {},
     "output_type": "execute_result"
    }
   ],
   "source": [
    "y_train_assembled"
   ]
  },
  {
   "cell_type": "code",
   "execution_count": null,
   "metadata": {},
   "outputs": [],
   "source": []
  },
  {
   "cell_type": "code",
   "execution_count": 75,
   "metadata": {
    "ExecuteTime": {
     "end_time": "2020-07-14T02:40:45.805517Z",
     "start_time": "2020-07-14T02:40:45.800712Z"
    }
   },
   "outputs": [],
   "source": [
    "def build_model():\n",
    "    model = tf.keras.Sequential([\n",
    "        tf.keras.layers.Embedding(len(word_index), 64),\n",
    "        tf.keras.layers.Bidirectional(tf.keras.layers.LSTM(128)),\n",
    "        tf.keras.layers.Dropout(0.2),\n",
    "        tf.keras.layers.Dense(64, activation='relu'),\n",
    "        tf.keras.layers.Dense(1, activation='sigmoid')\n",
    "    ])\n",
    "    \n",
    "    return model"
   ]
  },
  {
   "cell_type": "code",
   "execution_count": 76,
   "metadata": {
    "ExecuteTime": {
     "end_time": "2020-07-14T02:40:46.198131Z",
     "start_time": "2020-07-14T02:40:45.807241Z"
    }
   },
   "outputs": [
    {
     "name": "stdout",
     "output_type": "stream",
     "text": [
      "Model: \"sequential_2\"\n",
      "_________________________________________________________________\n",
      "Layer (type)                 Output Shape              Param #   \n",
      "=================================================================\n",
      "embedding_2 (Embedding)      (None, None, 64)          5669632   \n",
      "_________________________________________________________________\n",
      "bidirectional_2 (Bidirection (None, 256)               197632    \n",
      "_________________________________________________________________\n",
      "dropout_1 (Dropout)          (None, 256)               0         \n",
      "_________________________________________________________________\n",
      "dense_4 (Dense)              (None, 64)                16448     \n",
      "_________________________________________________________________\n",
      "dense_5 (Dense)              (None, 1)                 65        \n",
      "=================================================================\n",
      "Total params: 5,883,777\n",
      "Trainable params: 5,883,777\n",
      "Non-trainable params: 0\n",
      "_________________________________________________________________\n"
     ]
    }
   ],
   "source": [
    "model = build_model()\n",
    "model.summary()"
   ]
  },
  {
   "cell_type": "code",
   "execution_count": 77,
   "metadata": {
    "ExecuteTime": {
     "end_time": "2020-07-14T02:40:46.209219Z",
     "start_time": "2020-07-14T02:40:46.199434Z"
    }
   },
   "outputs": [],
   "source": [
    "partial_x_train, x_val, partial_y_train, y_val = train_test_split(train_data, y_train_assembled, test_size=0.2 )"
   ]
  },
  {
   "cell_type": "code",
   "execution_count": 78,
   "metadata": {
    "ExecuteTime": {
     "end_time": "2020-07-14T02:40:46.213485Z",
     "start_time": "2020-07-14T02:40:46.210459Z"
    }
   },
   "outputs": [
    {
     "name": "stdout",
     "output_type": "stream",
     "text": [
      "(20000, 256)\n",
      "(20000,)\n",
      "(5000, 256)\n",
      "(5000,)\n",
      "<class 'numpy.ndarray'>\n"
     ]
    }
   ],
   "source": [
    "print(partial_x_train.shape)\n",
    "print(partial_y_train.shape)\n",
    "\n",
    "print(x_val.shape)\n",
    "\n",
    "print(y_val.shape)\n",
    "print(type(partial_x_train))\n",
    "\n"
   ]
  },
  {
   "cell_type": "code",
   "execution_count": 79,
   "metadata": {
    "ExecuteTime": {
     "end_time": "2020-07-14T02:40:46.218112Z",
     "start_time": "2020-07-14T02:40:46.214854Z"
    }
   },
   "outputs": [
    {
     "data": {
      "text/plain": [
       "array([[    1,   806,    21, ...,     0,     0,     0],\n",
       "       [    1,     4,  1639, ...,     0,     0,     0],\n",
       "       [ 2853,     4,    11, ...,    11,     4, 26821],\n",
       "       ...,\n",
       "       [    1,    14,    20, ...,     0,     0,     0],\n",
       "       [ 1430,   357, 11724, ...,     6,   530,    20],\n",
       "       [    1,  8220,  8846, ...,     0,     0,     0]], dtype=int32)"
      ]
     },
     "execution_count": 79,
     "metadata": {},
     "output_type": "execute_result"
    }
   ],
   "source": [
    "partial_x_train"
   ]
  },
  {
   "cell_type": "code",
   "execution_count": null,
   "metadata": {},
   "outputs": [],
   "source": []
  },
  {
   "cell_type": "code",
   "execution_count": 80,
   "metadata": {
    "ExecuteTime": {
     "end_time": "2020-07-14T02:40:46.228996Z",
     "start_time": "2020-07-14T02:40:46.219330Z"
    }
   },
   "outputs": [],
   "source": [
    "model.compile(optimizer='adam',\n",
    "             loss='binary_crossentropy',\n",
    "             metrics=['accuracy'])"
   ]
  },
  {
   "cell_type": "code",
   "execution_count": 81,
   "metadata": {
    "ExecuteTime": {
     "end_time": "2020-07-14T02:40:46.233123Z",
     "start_time": "2020-07-14T02:40:46.230512Z"
    }
   },
   "outputs": [],
   "source": [
    "num_epochs = 5\n"
   ]
  },
  {
   "cell_type": "code",
   "execution_count": 82,
   "metadata": {
    "ExecuteTime": {
     "end_time": "2020-07-14T02:44:41.011185Z",
     "start_time": "2020-07-14T02:40:46.235531Z"
    }
   },
   "outputs": [
    {
     "name": "stdout",
     "output_type": "stream",
     "text": [
      "Epoch 1/5\n",
      "40/40 [==============================] - 48s 1s/step - loss: 0.7101 - accuracy: 0.5394 - val_loss: 0.6757 - val_accuracy: 0.5634\n",
      "Epoch 2/5\n",
      "40/40 [==============================] - 46s 1s/step - loss: 0.6602 - accuracy: 0.6359 - val_loss: 0.6372 - val_accuracy: 0.6666\n",
      "Epoch 3/5\n",
      "40/40 [==============================] - 45s 1s/step - loss: 0.5000 - accuracy: 0.7919 - val_loss: 0.4343 - val_accuracy: 0.8296\n",
      "Epoch 4/5\n",
      "40/40 [==============================] - 44s 1s/step - loss: 0.2136 - accuracy: 0.9200 - val_loss: 0.2437 - val_accuracy: 0.9120\n",
      "Epoch 5/5\n",
      "40/40 [==============================] - 45s 1s/step - loss: 0.0861 - accuracy: 0.9736 - val_loss: 0.2683 - val_accuracy: 0.9030\n"
     ]
    }
   ],
   "source": [
    "H = model.fit(partial_x_train,\n",
    "             partial_y_train,\n",
    "             epochs=num_epochs,\n",
    "             batch_size=512,\n",
    "             validation_data=(x_val, y_val),\n",
    "             verbose=1\n",
    "             )"
   ]
  },
  {
   "cell_type": "code",
   "execution_count": 83,
   "metadata": {
    "ExecuteTime": {
     "end_time": "2020-07-14T02:44:41.390577Z",
     "start_time": "2020-07-14T02:44:41.013339Z"
    }
   },
   "outputs": [
    {
     "data": {
      "image/png": "[encoded data removed]",
      "text/plain": [
       "<Figure size 432x288 with 1 Axes>"
      ]
     },
     "metadata": {},
     "output_type": "display_data"
    }
   ],
   "source": [
    "# plot the training loss and accuracy\n",
    "plt.style.use(\"ggplot\")\n",
    "plt.figure()\n",
    "plt.plot(np.arange(0, num_epochs), H.history[\"loss\"], label=\"train_loss\")\n",
    "plt.plot(np.arange(0, num_epochs), H.history[\"val_loss\"], label=\"val_loss\")\n",
    "plt.plot(np.arange(0, num_epochs), H.history[\"accuracy\"], label=\"train_acc\")\n",
    "plt.plot(np.arange(0, num_epochs), H.history[\"val_accuracy\"], label=\"val_acc\")\n",
    "plt.title(\"Training Loss and Accuracy\")\n",
    "plt.xlabel(\"Epoch #\")\n",
    "plt.ylabel(\"Loss/Accuracy\")\n",
    "plt.legend()\n",
    "plt.savefig(\"model_history\")\n",
    "plt.show()"
   ]
  },
  {
   "cell_type": "code",
   "execution_count": 84,
   "metadata": {
    "ExecuteTime": {
     "end_time": "2020-07-14T02:45:17.130797Z",
     "start_time": "2020-07-14T02:44:41.391968Z"
    }
   },
   "outputs": [],
   "source": [
    "preds = model.predict(test_data)"
   ]
  },
  {
   "cell_type": "code",
   "execution_count": 85,
   "metadata": {
    "ExecuteTime": {
     "end_time": "2020-07-14T02:45:17.136582Z",
     "start_time": "2020-07-14T02:45:17.132206Z"
    }
   },
   "outputs": [
    {
     "data": {
      "text/plain": [
       "array([[0.0769026 ],\n",
       "       [0.9938052 ],\n",
       "       [0.38124892],\n",
       "       ...,\n",
       "       [0.00141358],\n",
       "       [0.5540511 ],\n",
       "       [0.65343034]], dtype=float32)"
      ]
     },
     "execution_count": 85,
     "metadata": {},
     "output_type": "execute_result"
    }
   ],
   "source": [
    "preds"
   ]
  },
  {
   "cell_type": "code",
   "execution_count": 86,
   "metadata": {
    "ExecuteTime": {
     "end_time": "2020-07-14T02:45:17.140699Z",
     "start_time": "2020-07-14T02:45:17.138329Z"
    }
   },
   "outputs": [],
   "source": [
    "preds = preds >= 0.5"
   ]
  },
  {
   "cell_type": "code",
   "execution_count": null,
   "metadata": {},
   "outputs": [],
   "source": []
  },
  {
   "cell_type": "code",
   "execution_count": 87,
   "metadata": {
    "ExecuteTime": {
     "end_time": "2020-07-14T02:45:17.219028Z",
     "start_time": "2020-07-14T02:45:17.142124Z"
    }
   },
   "outputs": [
    {
     "data": {
      "text/html": [
       "<div>\n",
       "<style scoped>\n",
       "    .dataframe tbody tr th:only-of-type {\n",
       "        vertical-align: middle;\n",
       "    }\n",
       "\n",
       "    .dataframe tbody tr th {\n",
       "        vertical-align: top;\n",
       "    }\n",
       "\n",
       "    .dataframe thead th {\n",
       "        text-align: right;\n",
       "    }\n",
       "</style>\n",
       "<table border=\"1\" class=\"dataframe\">\n",
       "  <thead>\n",
       "    <tr style=\"text-align: right;\">\n",
       "      <th></th>\n",
       "      <th>bad</th>\n",
       "      <th>good</th>\n",
       "    </tr>\n",
       "  </thead>\n",
       "  <tbody>\n",
       "    <tr>\n",
       "      <th>bad</th>\n",
       "      <td>10325</td>\n",
       "      <td>2175</td>\n",
       "    </tr>\n",
       "    <tr>\n",
       "      <th>good</th>\n",
       "      <td>2519</td>\n",
       "      <td>9981</td>\n",
       "    </tr>\n",
       "  </tbody>\n",
       "</table>\n",
       "</div>"
      ],
      "text/plain": [
       "        bad  good\n",
       "bad   10325  2175\n",
       "good   2519  9981"
      ]
     },
     "execution_count": 87,
     "metadata": {},
     "output_type": "execute_result"
    }
   ],
   "source": [
    "cm = confusion_matrix(y_test, preds )\n",
    "df_cm = pd.DataFrame(\n",
    "        cm, index=['bad', 'good'], columns=['bad', 'good'], \n",
    "    )\n",
    "df_cm.head()\n",
    "\n",
    "\n",
    "# if you just have the collection of actuals vs predictions\n",
    "# pd.crosstab(actual, predictions, rownames=['actuals'], colnames=['predictions'])"
   ]
  },
  {
   "cell_type": "code",
   "execution_count": 88,
   "metadata": {
    "ExecuteTime": {
     "end_time": "2020-07-14T02:45:17.262156Z",
     "start_time": "2020-07-14T02:45:17.220574Z"
    }
   },
   "outputs": [
    {
     "name": "stdout",
     "output_type": "stream",
     "text": [
      "              precision    recall  f1-score   support\n",
      "\n",
      "           0       0.80      0.83      0.81     12500\n",
      "           1       0.82      0.80      0.81     12500\n",
      "\n",
      "    accuracy                           0.81     25000\n",
      "   macro avg       0.81      0.81      0.81     25000\n",
      "weighted avg       0.81      0.81      0.81     25000\n",
      "\n"
     ]
    }
   ],
   "source": [
    "report = classification_report(y_test, preds)\n",
    "print(report)"
   ]
  }
 ],
 "metadata": {
  "kernelspec": {
   "display_name": "Python 3",
   "language": "python",
   "name": "python3"
  },
  "language_info": {
   "codemirror_mode": {
    "name": "ipython",
    "version": 3
   },
   "file_extension": ".py",
   "mimetype": "text/x-python",
   "name": "python",
   "nbconvert_exporter": "python",
   "pygments_lexer": "ipython3",
   "version": "3.7.7"
  },
  "toc": {
   "base_numbering": 1,
   "nav_menu": {},
   "number_sections": true,
   "sideBar": true,
   "skip_h1_title": false,
   "title_cell": "Table of Contents",
   "title_sidebar": "Contents",
   "toc_cell": false,
   "toc_position": {},
   "toc_section_display": true,
   "toc_window_display": false
  }
 },
 "nbformat": 4,
 "nbformat_minor": 2
}
